{
 "cells": [
  {
   "cell_type": "code",
   "execution_count": 1,
   "metadata": {},
   "outputs": [],
   "source": [
    "import requests \n",
    "import bs4\n",
    "import lxml\n",
    "from bs4 import BeautifulSoup\n",
    "import pandas as pd\n",
    "import re\n",
    "import schedule\n",
    "import time\n",
    "from datetime import datetime\n",
    "import urllib.request"
   ]
  },
  {
   "cell_type": "code",
   "execution_count": 2,
   "metadata": {},
   "outputs": [
    {
     "name": "stdout",
     "output_type": "stream",
     "text": [
      "['John Carroll']\n",
      "['Bill Keller']\n",
      "['Novi Quadrianto']\n",
      "['Julie Weeds']\n",
      "['David Weir']\n",
      "['Computational Linguistics, Computational/Corpus Linguistics, Machine Learning (AI), Medical Informatics, Natural Language Processing']\n",
      "['Computational Linguistics, Computational/Corpus Linguistics, Linguistics, Machine Learning (AI), Natural Language Processing, Probabilistic Methods, Semantics And Pragmatics']\n",
      "['Bayesian Methods, Computer Vision - Machine Learning, Kernel Methods, Machine Learning (AI), Optimisation (AI), Probabilistic Methods, Time Series']\n",
      "['Applied machine learning,\\xa0Computational Linguistics,\\xa0Computational/Corpus Linguistics,\\xa0Data Science,\\xa0Natural Language Processing,\\xa0Semantics And Pragmatics']\n",
      "['Computational Linguistics, Linguistics, Natural Language Processing']\n",
      "['J.A.Carroll@sussex.ac.uk']\n",
      "['billk@sussex.ac.uk']\n",
      "['N.Quadrianto@sussex.ac.uk']\n",
      "['juliewe@sussex.ac.uk']\n",
      "['D.J.Weir@sussex.ac.uk']\n",
      "              Name                                          Expertise  \\\n",
      "0     John Carroll  Computational Linguistics, Computational/Corpu...   \n",
      "1      Bill Keller  Computational Linguistics, Computational/Corpu...   \n",
      "2  Novi Quadrianto  Bayesian Methods, Computer Vision - Machine Le...   \n",
      "3      Julie Weeds  Applied machine learning, Computational Lingui...   \n",
      "4       David Weir  Computational Linguistics, Linguistics, Natura...   \n",
      "\n",
      "                       Email  \\\n",
      "0   J.A.Carroll@sussex.ac.uk   \n",
      "1         billk@sussex.ac.uk   \n",
      "2  N.Quadrianto@sussex.ac.uk   \n",
      "3       juliewe@sussex.ac.uk   \n",
      "4      D.J.Weir@sussex.ac.uk   \n",
      "\n",
      "                                                Link       University_Name  \n",
      "0  https://www.sussex.ac.uk/informatics/people/pe...  University of Sussex  \n",
      "1  https://www.sussex.ac.uk/informatics/people/pe...  University of Sussex  \n",
      "2  https://www.sussex.ac.uk/informatics/people/pe...  University of Sussex  \n",
      "3  https://www.sussex.ac.uk/informatics/people/pe...  University of Sussex  \n",
      "4  https://www.sussex.ac.uk/informatics/people/pe...  University of Sussex  \n"
     ]
    },
    {
     "data": {
      "text/plain": [
       "Every 1 week do primary() (last run: [never], next run: 2020-08-05 00:21:00)"
      ]
     },
     "execution_count": 2,
     "metadata": {},
     "output_type": "execute_result"
    }
   ],
   "source": [
    "def primary():\n",
    "    uni = requests.get('https://www.sussex.ac.uk/dsrg/people/faculty')\n",
    "    uni_Sussex = 'https://www.sussex.ac.uk/dsrg/people/faculty'\n",
    "    uni_Sussex2 = urllib.request.urlopen(uni_Sussex)\n",
    "    soup = BeautifulSoup(uni_Sussex2)\n",
    "    content = soup.find_all('a',attrs={'class':'url fn'})\n",
    "    Prof =  []\n",
    "    for i in content:\n",
    "        profna = i.text\n",
    "        bn = re.findall(r'\\b[A-Z].*',profna)\n",
    "        print(bn)\n",
    "        bn = ''.join(bn)\n",
    "        Prof.append(bn)\n",
    "    key = soup.find_all('div',attrs={'class':'taglist'})\n",
    "    Prof_key =  []\n",
    "    for i in key :\n",
    "        profKa = i.text\n",
    "        Kn = re.findall(r'\\b[A-Z].*',profKa)\n",
    "        print(Kn)\n",
    "        Kn = ''.join(Kn)\n",
    "        Prof_key.append(Kn)\n",
    "    Prof_email =  []\n",
    "    email = soup.find_all('span',attrs={'class':'email'})\n",
    "    for i in email :\n",
    "        profEa = i.text\n",
    "        En = re.findall(r'\\b[a-z A-Z].*',profEa)\n",
    "        print(En)\n",
    "        En = ''.join(En)\n",
    "        Prof_email.append(En)\n",
    "    Prof_link =  []\n",
    "    url = \"https://www.sussex.ac.uk/dsrg/people/faculty\"\n",
    "    text = urllib.request.urlopen(url).read()\n",
    "    soup = BeautifulSoup(text)\n",
    "    data = soup.findAll('div',attrs={'class':'vcard palette4 swatch1'})\n",
    "    for div in data:\n",
    "        links = div.findAll('a',attrs={'class':'url fn'})\n",
    "        for a in links:\n",
    "            b =\"https://www.sussex.ac.uk\" +a['href']\n",
    "            Prof_link.append(b)\n",
    "    import numpy as np\n",
    "    uni = pd.DataFrame([np.nan] * 10)\n",
    "    uni\n",
    "    uni_name = uni.replace(np.nan, 'University of Sussex', regex=True)\n",
    "    uni_name\n",
    "    df = pd.DataFrame()\n",
    "    df['Name'] = Prof\n",
    "    df['Expertise'] =Prof_key\n",
    "    df['Email'] =  Prof_email\n",
    "    df['Link'] = Prof_link\n",
    "    df['University_Name']=uni_name\n",
    "    print(df)\n",
    "    df.to_csv(r'/Users/gnani/Documents/Candy 3 univ assignments/Sussex.csv', index = True)\n",
    "        \n",
    "primary()\n",
    "schedule.every(1).week.do(primary)\n"
   ]
  },
  {
   "cell_type": "code",
   "execution_count": null,
   "metadata": {},
   "outputs": [],
   "source": []
  },
  {
   "cell_type": "code",
   "execution_count": null,
   "metadata": {},
   "outputs": [],
   "source": []
  },
  {
   "cell_type": "code",
   "execution_count": null,
   "metadata": {},
   "outputs": [],
   "source": []
  },
  {
   "cell_type": "code",
   "execution_count": null,
   "metadata": {},
   "outputs": [],
   "source": []
  },
  {
   "cell_type": "code",
   "execution_count": null,
   "metadata": {},
   "outputs": [],
   "source": []
  }
 ],
 "metadata": {
  "kernelspec": {
   "display_name": "Python 3",
   "language": "python",
   "name": "python3"
  },
  "language_info": {
   "codemirror_mode": {
    "name": "ipython",
    "version": 3
   },
   "file_extension": ".py",
   "mimetype": "text/x-python",
   "name": "python",
   "nbconvert_exporter": "python",
   "pygments_lexer": "ipython3",
   "version": "3.7.6"
  }
 },
 "nbformat": 4,
 "nbformat_minor": 4
}
